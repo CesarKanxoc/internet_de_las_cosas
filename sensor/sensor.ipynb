{
 "cells": [
  {
   "cell_type": "code",
   "execution_count": 1,
   "metadata": {},
   "outputs": [
    {
     "name": "stdout",
     "output_type": "stream",
     "text": [
      "Requirement already satisfied: pika in c:\\users\\gabri\\appdata\\local\\packages\\pythonsoftwarefoundation.python.3.11_qbz5n2kfra8p0\\localcache\\local-packages\\python311\\site-packages (1.3.2)\n",
      "Note: you may need to restart the kernel to use updated packages.\n"
     ]
    }
   ],
   "source": [
    "%pip install pika"
   ]
  },
  {
   "cell_type": "code",
   "execution_count": 25,
   "metadata": {},
   "outputs": [
    {
     "name": "stdout",
     "output_type": "stream",
     "text": [
      " [x] Productos en stock: 94\n",
      " [x] Productos en stock: 91\n",
      " [x] Productos en stock: 90\n",
      " [x] Productos en stock: 86\n",
      " [x] Productos en stock: 78\n",
      " [x] Productos en stock: 72\n",
      " [x] Productos en stock: 68\n",
      " [x] Productos en stock: 66\n",
      " [x] Productos en stock: 65\n",
      " [x] Productos en stock: 64\n",
      " [x] Productos en stock: 57\n",
      " [x] Productos en stock: 54\n",
      " [x] Productos en stock: 49\n",
      " [x] Productos en stock: 41\n",
      " [x] Productos en stock: 33\n",
      " [x] Productos en stock: 29\n",
      " [x] Productos en stock: 26\n",
      " [x] Productos en stock: 22\n",
      " [x] Productos en stock: 13\n",
      " [x] Productos en stock: 6\n",
      " [x] Productos en stock: 0\n"
     ]
    }
   ],
   "source": [
    "import pika\n",
    "import random\n",
    "import time\n",
    "import json  # Importa la librería JSON\n",
    "\n",
    "# Configura la conexión a RabbitMQ\n",
    "credencial = pika.PlainCredentials('cesar', 'cesar')\n",
    "connection = pika.BlockingConnection(\n",
    "    pika.ConnectionParameters(host='192.168.1.74', credentials=credencial))\n",
    "channel = connection.channel()\n",
    "channel.queue_declare(queue='producto', durable=True)\n",
    "productos_stock = 100\n",
    "productos_consumidos = []\n",
    "\n",
    "while productos_stock > 0:\n",
    "    producto = int(random.uniform(1, 10))\n",
    "    productos_stock = productos_stock - producto\n",
    "    if productos_stock < 0 :\n",
    "        productos_stock = 0\n",
    "    channel.basic_publish(exchange='', routing_key='producto', body=str(productos_stock))\n",
    "    print(f\" [x] Productos en stock: {productos_stock}\")\n",
    "    time.sleep(1)\n",
    "\n",
    "connection.close()\n",
    "\n"
   ]
  }
 ],
 "metadata": {
  "kernelspec": {
   "display_name": "Python 3",
   "language": "python",
   "name": "python3"
  },
  "language_info": {
   "codemirror_mode": {
    "name": "ipython",
    "version": 3
   },
   "file_extension": ".py",
   "mimetype": "text/x-python",
   "name": "python",
   "nbconvert_exporter": "python",
   "pygments_lexer": "ipython3",
   "version": "3.11.6"
  }
 },
 "nbformat": 4,
 "nbformat_minor": 2
}
