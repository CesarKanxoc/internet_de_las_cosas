{
 "cells": [
  {
   "cell_type": "code",
   "execution_count": 1,
   "metadata": {},
   "outputs": [
    {
     "name": "stdout",
     "output_type": "stream",
     "text": [
      "Requirement already satisfied: pika in c:\\users\\topmre 3\\anaconda3\\envs\\myenv\\lib\\site-packages (1.3.2)\n",
      "Note: you may need to restart the kernel to use updated packages.\n"
     ]
    }
   ],
   "source": [
    "%pip install pika"
   ]
  },
  {
   "cell_type": "code",
   "execution_count": 3,
   "metadata": {},
   "outputs": [
    {
     "name": "stdout",
     "output_type": "stream",
     "text": [
      "Requirement already satisfied: flask in c:\\users\\topmre 3\\anaconda3\\envs\\myenv\\lib\\site-packages (3.0.0)\n",
      "Requirement already satisfied: importlib-metadata>=3.6.0 in c:\\users\\topmre 3\\anaconda3\\envs\\myenv\\lib\\site-packages (from flask) (6.0.0)\n",
      "Requirement already satisfied: Jinja2>=3.1.2 in c:\\users\\topmre 3\\anaconda3\\envs\\myenv\\lib\\site-packages (from flask) (3.1.2)\n",
      "Requirement already satisfied: itsdangerous>=2.1.2 in c:\\users\\topmre 3\\anaconda3\\envs\\myenv\\lib\\site-packages (from flask) (2.1.2)\n",
      "Requirement already satisfied: blinker>=1.6.2 in c:\\users\\topmre 3\\anaconda3\\envs\\myenv\\lib\\site-packages (from flask) (1.6.3)\n",
      "Requirement already satisfied: click>=8.1.3 in c:\\users\\topmre 3\\anaconda3\\envs\\myenv\\lib\\site-packages (from flask) (8.1.7)\n",
      "Requirement already satisfied: Werkzeug>=3.0.0 in c:\\users\\topmre 3\\anaconda3\\envs\\myenv\\lib\\site-packages (from flask) (3.0.0)\n",
      "Requirement already satisfied: colorama in c:\\users\\topmre 3\\anaconda3\\envs\\myenv\\lib\\site-packages (from click>=8.1.3->flask) (0.4.6)\n",
      "Requirement already satisfied: zipp>=0.5 in c:\\users\\topmre 3\\anaconda3\\envs\\myenv\\lib\\site-packages (from importlib-metadata>=3.6.0->flask) (3.11.0)\n",
      "Requirement already satisfied: MarkupSafe>=2.0 in c:\\users\\topmre 3\\anaconda3\\envs\\myenv\\lib\\site-packages (from Jinja2>=3.1.2->flask) (2.1.1)\n",
      "Note: you may need to restart the kernel to use updated packages.\n"
     ]
    }
   ],
   "source": [
    "%pip install flask"
   ]
  },
  {
   "cell_type": "code",
   "execution_count": 5,
   "metadata": {},
   "outputs": [],
   "source": [
    "from flask import Flask\n",
    "from flask import jsonify\n",
    "def create_app():\n",
    "    app = Flask(__name__)\n",
    "    return app\n",
    "\n",
    "app = create_app()"
   ]
  },
  {
   "cell_type": "code",
   "execution_count": 6,
   "metadata": {},
   "outputs": [
    {
     "name": "stdout",
     "output_type": "stream",
     "text": [
      " * Serving Flask app '__main__'\n",
      " * Debug mode: on\n"
     ]
    },
    {
     "name": "stderr",
     "output_type": "stream",
     "text": [
      "WARNING: This is a development server. Do not use it in a production deployment. Use a production WSGI server instead.\n",
      " * Running on http://127.0.0.1:5000\n",
      "Press CTRL+C to quit\n",
      " * Restarting with stat\n"
     ]
    },
    {
     "ename": "SystemExit",
     "evalue": "1",
     "output_type": "error",
     "traceback": [
      "An exception has occurred, use %tb to see the full traceback.\n",
      "\u001b[1;31mSystemExit\u001b[0m\u001b[1;31m:\u001b[0m 1\n"
     ]
    }
   ],
   "source": [
    "from flask import Flask\n",
    "from flask import jsonify\n",
    "import pika\n",
    "\n",
    "@app.route('/producto', methods=['GET'])\n",
    "def obtener_temperatura():\n",
    "    # Configura la conexión a RabbitMQ\n",
    "    connection = pika.BlockingConnection(pika.ConnectionParameters('localhost'))\n",
    "    channel = connection.channel()\n",
    "    channel.queue_declare(queue='producto')\n",
    "\n",
    "    method_frame, header_frame, body = channel.basic_get(queue='producto')\n",
    "    if method_frame:\n",
    "        producto = int(body)\n",
    "        return jsonify({'producto_stock': producto})\n",
    "    else:\n",
    "        return 'No hay datos de temperatura disponibles', 404\n",
    "\n",
    "if __name__ == '__main__':\n",
    "    app.run(debug=True)\n"
   ]
  }
 ],
 "metadata": {
  "kernelspec": {
   "display_name": "myenv",
   "language": "python",
   "name": "python3"
  },
  "language_info": {
   "codemirror_mode": {
    "name": "ipython",
    "version": 3
   },
   "file_extension": ".py",
   "mimetype": "text/x-python",
   "name": "python",
   "nbconvert_exporter": "python",
   "pygments_lexer": "ipython3",
   "version": "3.8.16"
  }
 },
 "nbformat": 4,
 "nbformat_minor": 2
}
